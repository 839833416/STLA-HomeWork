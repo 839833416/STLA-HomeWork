{
 "cells": [
  {
   "cell_type": "markdown",
   "metadata": {},
   "source": [
    "# 目标：use a multi-layer perceptron model to model the data in the “classification”"
   ]
  },
  {
   "cell_type": "code",
   "execution_count": 3,
   "metadata": {},
   "outputs": [],
   "source": [
    "\n",
    "import pandas as pd\n",
    "import numpy as np\n",
    "import os \n",
    "\n",
    "data_dir = '/media/data1/hy/OrangeHomeWork'\n",
    "\n",
    "\n",
    "train_data_path = os.path.join(data_dir, 'SLTA_Projects/dataset/classification/classification_train.csv')\n",
    "eval_data_path = os.path.join(data_dir,  'SLTA_Projects/dataset/classification/classification_val.csv')\n",
    "test_data_path = os.path.join(data_dir, 'SLTA_Projects/dataset/classification/classification_test.csv')\n",
    "\n",
    "output_csv_path = os.path.join(data_dir, 'mlp_classification_test.csv')\n",
    "\n",
    "train_data_df = pd.read_csv(train_data_path)\n",
    "eval_data_df = pd.read_csv(eval_data_path)\n",
    "test_data_df = pd.read_csv(test_data_path)"
   ]
  },
  {
   "cell_type": "markdown",
   "metadata": {},
   "source": [
    "# 数据EDA"
   ]
  },
  {
   "cell_type": "code",
   "execution_count": 4,
   "metadata": {},
   "outputs": [
    {
     "name": "stdout",
     "output_type": "stream",
     "text": [
      "<class 'pandas.core.frame.DataFrame'>\n",
      "RangeIndex: 10000 entries, 0 to 9999\n",
      "Data columns (total 3 columns):\n",
      " #   Column  Non-Null Count  Dtype  \n",
      "---  ------  --------------  -----  \n",
      " 0   x_1     10000 non-null  float64\n",
      " 1   x_2     10000 non-null  float64\n",
      " 2   y       10000 non-null  int64  \n",
      "dtypes: float64(2), int64(1)\n",
      "memory usage: 234.5 KB\n",
      "<class 'pandas.core.frame.DataFrame'>\n",
      "RangeIndex: 1000 entries, 0 to 999\n",
      "Data columns (total 3 columns):\n",
      " #   Column  Non-Null Count  Dtype  \n",
      "---  ------  --------------  -----  \n",
      " 0   x_1     1000 non-null   float64\n",
      " 1   x_2     1000 non-null   float64\n",
      " 2   y       1000 non-null   int64  \n",
      "dtypes: float64(2), int64(1)\n",
      "memory usage: 23.6 KB\n",
      "<class 'pandas.core.frame.DataFrame'>\n",
      "RangeIndex: 1000 entries, 0 to 999\n",
      "Data columns (total 3 columns):\n",
      " #   Column  Non-Null Count  Dtype  \n",
      "---  ------  --------------  -----  \n",
      " 0   x_1     1000 non-null   float64\n",
      " 1   x_2     1000 non-null   float64\n",
      " 2   y       0 non-null      float64\n",
      "dtypes: float64(3)\n",
      "memory usage: 23.6 KB\n"
     ]
    },
    {
     "data": {
      "text/plain": [
       "(None, None, None)"
      ]
     },
     "execution_count": 4,
     "metadata": {},
     "output_type": "execute_result"
    }
   ],
   "source": [
    "train_data_df.info(),  eval_data_df.info(), test_data_df.info()"
   ]
  },
  {
   "cell_type": "code",
   "execution_count": 5,
   "metadata": {},
   "outputs": [
    {
     "data": {
      "text/plain": [
       "((10000, 3), (1000, 3), (1000, 3))"
      ]
     },
     "execution_count": 5,
     "metadata": {},
     "output_type": "execute_result"
    }
   ],
   "source": [
    "train_data_df.shape, eval_data_df.shape, test_data_df.shape"
   ]
  },
  {
   "cell_type": "code",
   "execution_count": 6,
   "metadata": {},
   "outputs": [
    {
     "data": {
      "text/html": [
       "<div>\n",
       "<style scoped>\n",
       "    .dataframe tbody tr th:only-of-type {\n",
       "        vertical-align: middle;\n",
       "    }\n",
       "\n",
       "    .dataframe tbody tr th {\n",
       "        vertical-align: top;\n",
       "    }\n",
       "\n",
       "    .dataframe thead th {\n",
       "        text-align: right;\n",
       "    }\n",
       "</style>\n",
       "<table border=\"1\" class=\"dataframe\">\n",
       "  <thead>\n",
       "    <tr style=\"text-align: right;\">\n",
       "      <th></th>\n",
       "      <th>x_1</th>\n",
       "      <th>x_2</th>\n",
       "      <th>y</th>\n",
       "    </tr>\n",
       "  </thead>\n",
       "  <tbody>\n",
       "    <tr>\n",
       "      <th>0</th>\n",
       "      <td>-1.273580</td>\n",
       "      <td>0.642793</td>\n",
       "      <td>1</td>\n",
       "    </tr>\n",
       "    <tr>\n",
       "      <th>1</th>\n",
       "      <td>-0.099602</td>\n",
       "      <td>0.840770</td>\n",
       "      <td>1</td>\n",
       "    </tr>\n",
       "    <tr>\n",
       "      <th>2</th>\n",
       "      <td>-1.010065</td>\n",
       "      <td>-1.857753</td>\n",
       "      <td>0</td>\n",
       "    </tr>\n",
       "    <tr>\n",
       "      <th>3</th>\n",
       "      <td>0.895425</td>\n",
       "      <td>-0.831040</td>\n",
       "      <td>0</td>\n",
       "    </tr>\n",
       "    <tr>\n",
       "      <th>4</th>\n",
       "      <td>1.043244</td>\n",
       "      <td>-1.045208</td>\n",
       "      <td>0</td>\n",
       "    </tr>\n",
       "  </tbody>\n",
       "</table>\n",
       "</div>"
      ],
      "text/plain": [
       "        x_1       x_2  y\n",
       "0 -1.273580  0.642793  1\n",
       "1 -0.099602  0.840770  1\n",
       "2 -1.010065 -1.857753  0\n",
       "3  0.895425 -0.831040  0\n",
       "4  1.043244 -1.045208  0"
      ]
     },
     "execution_count": 6,
     "metadata": {},
     "output_type": "execute_result"
    }
   ],
   "source": [
    "train_data_df.head(5)"
   ]
  },
  {
   "cell_type": "code",
   "execution_count": 7,
   "metadata": {},
   "outputs": [
    {
     "data": {
      "text/html": [
       "<div>\n",
       "<style scoped>\n",
       "    .dataframe tbody tr th:only-of-type {\n",
       "        vertical-align: middle;\n",
       "    }\n",
       "\n",
       "    .dataframe tbody tr th {\n",
       "        vertical-align: top;\n",
       "    }\n",
       "\n",
       "    .dataframe thead th {\n",
       "        text-align: right;\n",
       "    }\n",
       "</style>\n",
       "<table border=\"1\" class=\"dataframe\">\n",
       "  <thead>\n",
       "    <tr style=\"text-align: right;\">\n",
       "      <th></th>\n",
       "      <th>x_1</th>\n",
       "      <th>x_2</th>\n",
       "      <th>y</th>\n",
       "    </tr>\n",
       "  </thead>\n",
       "  <tbody>\n",
       "    <tr>\n",
       "      <th>0</th>\n",
       "      <td>0.956742</td>\n",
       "      <td>-2.565025</td>\n",
       "      <td>0</td>\n",
       "    </tr>\n",
       "    <tr>\n",
       "      <th>1</th>\n",
       "      <td>1.085391</td>\n",
       "      <td>1.019169</td>\n",
       "      <td>1</td>\n",
       "    </tr>\n",
       "    <tr>\n",
       "      <th>2</th>\n",
       "      <td>-1.245391</td>\n",
       "      <td>-2.297339</td>\n",
       "      <td>0</td>\n",
       "    </tr>\n",
       "    <tr>\n",
       "      <th>3</th>\n",
       "      <td>0.576724</td>\n",
       "      <td>-1.675460</td>\n",
       "      <td>0</td>\n",
       "    </tr>\n",
       "    <tr>\n",
       "      <th>4</th>\n",
       "      <td>2.745909</td>\n",
       "      <td>1.017409</td>\n",
       "      <td>1</td>\n",
       "    </tr>\n",
       "  </tbody>\n",
       "</table>\n",
       "</div>"
      ],
      "text/plain": [
       "        x_1       x_2  y\n",
       "0  0.956742 -2.565025  0\n",
       "1  1.085391  1.019169  1\n",
       "2 -1.245391 -2.297339  0\n",
       "3  0.576724 -1.675460  0\n",
       "4  2.745909  1.017409  1"
      ]
     },
     "execution_count": 7,
     "metadata": {},
     "output_type": "execute_result"
    }
   ],
   "source": [
    "eval_data_df.head(5)"
   ]
  },
  {
   "cell_type": "code",
   "execution_count": 8,
   "metadata": {},
   "outputs": [
    {
     "data": {
      "text/html": [
       "<div>\n",
       "<style scoped>\n",
       "    .dataframe tbody tr th:only-of-type {\n",
       "        vertical-align: middle;\n",
       "    }\n",
       "\n",
       "    .dataframe tbody tr th {\n",
       "        vertical-align: top;\n",
       "    }\n",
       "\n",
       "    .dataframe thead th {\n",
       "        text-align: right;\n",
       "    }\n",
       "</style>\n",
       "<table border=\"1\" class=\"dataframe\">\n",
       "  <thead>\n",
       "    <tr style=\"text-align: right;\">\n",
       "      <th></th>\n",
       "      <th>x_1</th>\n",
       "      <th>x_2</th>\n",
       "      <th>y</th>\n",
       "    </tr>\n",
       "  </thead>\n",
       "  <tbody>\n",
       "    <tr>\n",
       "      <th>0</th>\n",
       "      <td>0.646227</td>\n",
       "      <td>0.801867</td>\n",
       "      <td>NaN</td>\n",
       "    </tr>\n",
       "    <tr>\n",
       "      <th>1</th>\n",
       "      <td>-0.070090</td>\n",
       "      <td>1.745161</td>\n",
       "      <td>NaN</td>\n",
       "    </tr>\n",
       "    <tr>\n",
       "      <th>2</th>\n",
       "      <td>-0.797350</td>\n",
       "      <td>-0.790427</td>\n",
       "      <td>NaN</td>\n",
       "    </tr>\n",
       "    <tr>\n",
       "      <th>3</th>\n",
       "      <td>0.579818</td>\n",
       "      <td>-2.036111</td>\n",
       "      <td>NaN</td>\n",
       "    </tr>\n",
       "    <tr>\n",
       "      <th>4</th>\n",
       "      <td>-1.253754</td>\n",
       "      <td>-0.351167</td>\n",
       "      <td>NaN</td>\n",
       "    </tr>\n",
       "  </tbody>\n",
       "</table>\n",
       "</div>"
      ],
      "text/plain": [
       "        x_1       x_2   y\n",
       "0  0.646227  0.801867 NaN\n",
       "1 -0.070090  1.745161 NaN\n",
       "2 -0.797350 -0.790427 NaN\n",
       "3  0.579818 -2.036111 NaN\n",
       "4 -1.253754 -0.351167 NaN"
      ]
     },
     "execution_count": 8,
     "metadata": {},
     "output_type": "execute_result"
    }
   ],
   "source": [
    "test_data_df.head(5)"
   ]
  },
  {
   "cell_type": "markdown",
   "metadata": {},
   "source": [
    "# 训练集、验证集、测试集划分"
   ]
  },
  {
   "cell_type": "code",
   "execution_count": 10,
   "metadata": {},
   "outputs": [],
   "source": [
    "# 训练数据集\n",
    "X_train, y_train = train_data_df.iloc[:, :-1], train_data_df.iloc[:, 2]\n",
    "# 验证集\n",
    "X_eval, y_eval = eval_data_df.iloc[:, :-1], eval_data_df.iloc[:, 2]\n",
    "#测试集\n",
    "X_test = test_data_df.iloc[:, : - 1]"
   ]
  },
  {
   "cell_type": "markdown",
   "metadata": {},
   "source": [
    "# 使用numpy实现多层感知机"
   ]
  },
  {
   "cell_type": "code",
   "execution_count": 18,
   "metadata": {},
   "outputs": [],
   "source": [
    "import numpy as np\n",
    "\n",
    "# 激活函数及其导数\n",
    "def sigmoid(x):\n",
    "    return 1 / (1 + np.exp(-x))\n",
    "\n",
    "def sigmoid_derivative(x):\n",
    "    return x * (1 - x)\n",
    "\n",
    "# 损失函数（均方误差）\n",
    "def mse_loss(y_true, y_pred):\n",
    "    return np.mean((y_true - y_pred) ** 2)\n",
    "\n",
    "# 多层感知器类\n",
    "class MLP:\n",
    "    def __init__(self, input_size, hidden_size, output_size, learning_rate=0.01):\n",
    "        self.input_size = input_size\n",
    "        self.hidden_size = hidden_size\n",
    "        self.output_size = output_size\n",
    "        self.learning_rate = learning_rate\n",
    "        \n",
    "        # 初始化权重和偏置\n",
    "        self.weights_input_hidden = np.random.randn(input_size, hidden_size)\n",
    "        self.bias_hidden = np.zeros(hidden_size)\n",
    "        self.weights_hidden_output = np.random.randn(hidden_size, output_size)\n",
    "        self.bias_output = np.zeros(output_size)\n",
    "    \n",
    "    def forward(self, x):\n",
    "        # 前向传播\n",
    "        self.hidden = sigmoid(np.dot(x, self.weights_input_hidden) + self.bias_hidden)\n",
    "        self.output = sigmoid(np.dot(self.hidden, self.weights_hidden_output) + self.bias_output)\n",
    "        return self.output\n",
    "    \n",
    "    def backward(self, x, y, output):\n",
    "        # 反向传播\n",
    "        output_error = y - output\n",
    "        output_delta = output_error * sigmoid_derivative(output)\n",
    "        print(\"output_delta:\", output_delta.shape)\n",
    "        hidden_error = output_delta.dot(self.weights_hidden_output.T)\n",
    "        hidden_delta = hidden_error * sigmoid_derivative(self.hidden)\n",
    "        \n",
    "        # 更新权重和偏置\n",
    "        self.weights_hidden_output += self.hidden.T.dot(output_delta) * self.learning_rate\n",
    "        self.bias_output += np.sum(output_delta, axis=0) * self.learning_rate\n",
    "        self.weights_input_hidden += x.T.dot(hidden_delta) * self.learning_rate\n",
    "        self.bias_hidden += np.sum(hidden_delta, axis=0) * self.learning_rate\n",
    "    \n",
    "    def train(self, x_train, y_train, epochs=1000):\n",
    "        for epoch in range(epochs):\n",
    "            output = self.forward(x_train)\n",
    "            # print(\"x_train:\", x_train)\n",
    "            # print(\"y_train:\", y_train)\n",
    "            # print(\"output:\", output)\n",
    "            self.backward(x_train, y_train, output)\n",
    "            if epoch % 20 == 0:\n",
    "                loss = mse_loss(y_train, output)\n",
    "                print(f'Epoch {epoch}, Loss: {loss}')\n",
    "    \n",
    "    def predict(self, x):\n",
    "        return self.forward(x)\n"
   ]
  },
  {
   "cell_type": "code",
   "execution_count": 22,
   "metadata": {},
   "outputs": [
    {
     "data": {
      "text/plain": [
       "array([1, 1, 0, ..., 1, 1, 0])"
      ]
     },
     "execution_count": 22,
     "metadata": {},
     "output_type": "execute_result"
    }
   ],
   "source": [
    "y_train.to_numpy()"
   ]
  },
  {
   "cell_type": "code",
   "execution_count": 23,
   "metadata": {},
   "outputs": [
    {
     "name": "stdout",
     "output_type": "stream",
     "text": [
      "x_train: [[-1.27358015  0.64279291]\n",
      " [-0.09960213  0.84076983]\n",
      " [-1.01006545 -1.85775309]\n",
      " ...\n",
      " [ 2.41283545  1.24092761]\n",
      " [ 2.21123988  1.13460519]\n",
      " [ 0.83575821 -1.47963722]]\n",
      "y_train: [1 1 0 ... 1 1 0]\n",
      "output: [[0.23979351]\n",
      " [0.27010978]\n",
      " [0.1609333 ]\n",
      " ...\n",
      " [0.31775743]\n",
      " [0.31182623]\n",
      " [0.18760141]]\n"
     ]
    },
    {
     "ename": "ValueError",
     "evalue": "shapes (10000,10000) and (1,2) not aligned: 10000 (dim 1) != 1 (dim 0)",
     "output_type": "error",
     "traceback": [
      "\u001b[0;31m---------------------------------------------------------------------------\u001b[0m",
      "\u001b[0;31mValueError\u001b[0m                                Traceback (most recent call last)",
      "Cell \u001b[0;32mIn[23], line 7\u001b[0m\n\u001b[1;32m      4\u001b[0m mlp \u001b[38;5;241m=\u001b[39m MLP(input_size\u001b[38;5;241m=\u001b[39m\u001b[38;5;241m2\u001b[39m, hidden_size\u001b[38;5;241m=\u001b[39m\u001b[38;5;241m2\u001b[39m, output_size\u001b[38;5;241m=\u001b[39m\u001b[38;5;241m1\u001b[39m, learning_rate\u001b[38;5;241m=\u001b[39m\u001b[38;5;241m0.1\u001b[39m)\n\u001b[1;32m      6\u001b[0m \u001b[38;5;66;03m# 训练模型\u001b[39;00m\n\u001b[0;32m----> 7\u001b[0m \u001b[43mmlp\u001b[49m\u001b[38;5;241;43m.\u001b[39;49m\u001b[43mtrain\u001b[49m\u001b[43m(\u001b[49m\u001b[43mX_train\u001b[49m\u001b[38;5;241;43m.\u001b[39;49m\u001b[43mto_numpy\u001b[49m\u001b[43m(\u001b[49m\u001b[43m)\u001b[49m\u001b[43m,\u001b[49m\u001b[43m \u001b[49m\u001b[43my_train\u001b[49m\u001b[38;5;241;43m.\u001b[39;49m\u001b[43mto_numpy\u001b[49m\u001b[43m(\u001b[49m\u001b[43m)\u001b[49m\u001b[43m,\u001b[49m\u001b[43m \u001b[49m\u001b[43mepochs\u001b[49m\u001b[38;5;241;43m=\u001b[39;49m\u001b[38;5;241;43m1\u001b[39;49m\u001b[43m)\u001b[49m\n",
      "Cell \u001b[0;32mIn[18], line 54\u001b[0m, in \u001b[0;36mMLP.train\u001b[0;34m(self, x_train, y_train, epochs)\u001b[0m\n\u001b[1;32m     52\u001b[0m \u001b[38;5;28mprint\u001b[39m(\u001b[38;5;124m\"\u001b[39m\u001b[38;5;124my_train:\u001b[39m\u001b[38;5;124m\"\u001b[39m, y_train)\n\u001b[1;32m     53\u001b[0m \u001b[38;5;28mprint\u001b[39m(\u001b[38;5;124m\"\u001b[39m\u001b[38;5;124moutput:\u001b[39m\u001b[38;5;124m\"\u001b[39m, output)\n\u001b[0;32m---> 54\u001b[0m \u001b[38;5;28;43mself\u001b[39;49m\u001b[38;5;241;43m.\u001b[39;49m\u001b[43mbackward\u001b[49m\u001b[43m(\u001b[49m\u001b[43mx_train\u001b[49m\u001b[43m,\u001b[49m\u001b[43m \u001b[49m\u001b[43my_train\u001b[49m\u001b[43m,\u001b[49m\u001b[43m \u001b[49m\u001b[43moutput\u001b[49m\u001b[43m)\u001b[49m\n\u001b[1;32m     55\u001b[0m \u001b[38;5;28;01mif\u001b[39;00m epoch \u001b[38;5;241m%\u001b[39m \u001b[38;5;241m20\u001b[39m \u001b[38;5;241m==\u001b[39m \u001b[38;5;241m0\u001b[39m:\n\u001b[1;32m     56\u001b[0m     loss \u001b[38;5;241m=\u001b[39m mse_loss(y_train, output)\n",
      "Cell \u001b[0;32mIn[18], line 39\u001b[0m, in \u001b[0;36mMLP.backward\u001b[0;34m(self, x, y, output)\u001b[0m\n\u001b[1;32m     36\u001b[0m output_error \u001b[38;5;241m=\u001b[39m y \u001b[38;5;241m-\u001b[39m output\n\u001b[1;32m     37\u001b[0m output_delta \u001b[38;5;241m=\u001b[39m output_error \u001b[38;5;241m*\u001b[39m sigmoid_derivative(output)\n\u001b[0;32m---> 39\u001b[0m hidden_error \u001b[38;5;241m=\u001b[39m \u001b[43moutput_delta\u001b[49m\u001b[38;5;241;43m.\u001b[39;49m\u001b[43mdot\u001b[49m\u001b[43m(\u001b[49m\u001b[38;5;28;43mself\u001b[39;49m\u001b[38;5;241;43m.\u001b[39;49m\u001b[43mweights_hidden_output\u001b[49m\u001b[38;5;241;43m.\u001b[39;49m\u001b[43mT\u001b[49m\u001b[43m)\u001b[49m\n\u001b[1;32m     40\u001b[0m hidden_delta \u001b[38;5;241m=\u001b[39m hidden_error \u001b[38;5;241m*\u001b[39m sigmoid_derivative(\u001b[38;5;28mself\u001b[39m\u001b[38;5;241m.\u001b[39mhidden)\n\u001b[1;32m     42\u001b[0m \u001b[38;5;66;03m# 更新权重和偏置\u001b[39;00m\n",
      "\u001b[0;31mValueError\u001b[0m: shapes (10000,10000) and (1,2) not aligned: 10000 (dim 1) != 1 (dim 0)"
     ]
    }
   ],
   "source": [
    "from sklearn.metrics import accuracy_score\n",
    "\n",
    "# 初始化并训练模型\n",
    "mlp = MLP(input_size=2, hidden_size=2, output_size=1, learning_rate=0.1)\n",
    "\n",
    "# 训练模型\n",
    "mlp.train(X_train.to_numpy(), y_train.to_numpy(), epochs=1)\n",
    "\n",
    "\n",
    "\n"
   ]
  },
  {
   "cell_type": "code",
   "execution_count": null,
   "metadata": {},
   "outputs": [],
   "source": [
    "# 在验证集上预测\n",
    "eval_pred = mlp.predict(X_eval)"
   ]
  },
  {
   "cell_type": "code",
   "execution_count": null,
   "metadata": {},
   "outputs": [],
   "source": [
    "# 训练模型\n",
    "ada.fit(X_train, y_train)\n",
    "\n",
    "# 在验证集上预测\n",
    "eval_pred = ada.predict(X_eval)\n",
    "\n",
    "# 在验证集上计算准确率\n",
    "accuracy = accuracy_score(y_eval, eval_pred)\n",
    "print(f\"Accuracy: {accuracy:.2f}\")"
   ]
  }
 ],
 "metadata": {
  "kernelspec": {
   "display_name": "orange",
   "language": "python",
   "name": "python3"
  },
  "language_info": {
   "codemirror_mode": {
    "name": "ipython",
    "version": 3
   },
   "file_extension": ".py",
   "mimetype": "text/x-python",
   "name": "python",
   "nbconvert_exporter": "python",
   "pygments_lexer": "ipython3",
   "version": "3.9.20"
  }
 },
 "nbformat": 4,
 "nbformat_minor": 2
}
